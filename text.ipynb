{
 "cells": [
  {
   "cell_type": "code",
   "execution_count": 6,
   "metadata": {},
   "outputs": [
    {
     "name": "stdout",
     "output_type": "stream",
     "text": [
      "Database version : 8.0.11 \n"
     ]
    }
   ],
   "source": [
    "#!/usr/bin/python\n",
    "# -*- coding: UTF-8 -*-\n",
    "\n",
    "import MySQLdb\n",
    "\n",
    "# 打开数据库连接\n",
    "db = MySQLdb.connect(\"localhost\", \"root\", \"86w86w\", \"my_db\", charset='utf8' )\n",
    "\n",
    "# 使用cursor()方法获取操作游标 \n",
    "cursor = db.cursor()\n",
    "\n",
    "# 使用execute方法执行SQL语句\n",
    "cursor.execute(\"SELECT VERSION()\")\n",
    "\n",
    "# 使用 fetchone() 方法获取一条数据\n",
    "data = cursor.fetchone()\n",
    "\n",
    "print(\"Database version : %s \" % data)\n",
    "\n",
    "# 关闭数据库连接\n",
    "db.close()"
   ]
  },
  {
   "cell_type": "code",
   "execution_count": 7,
   "metadata": {},
   "outputs": [],
   "source": [
    "#链接，读取，查询oracle\n",
    "#工具库导入\n",
    "import pandas as pd\n",
    "import cx_Oracle \n",
    "#设置环境编码方式，可解决读取数据库乱码问题\n",
    "import os\n",
    "os.environ['NLS_LANG'] = 'SIMPLIFIED CHINESE_CHINA.UTF8'\n",
    "#实现查询并返回dataframe、\n",
    "def query(table):\n",
    "    host = \"192.168.0.167\"#数据库ip\n",
    "    port = \"5500\"#端口\n",
    "    sid = \"testoracle\"#数据库名称\n",
    "    dsn = cx_Oracle.makedsn(host, port, sid)\n",
    "    #scott是数据用户名，tiger是登陆密码（默认用户名和密码）\n",
    "    conn = cx_Oracle.connect(\"sys\", \"123456\", dsn)\n",
    "    #SQL语句，可以定制，实现灵活查询\n",
    "    sql = 'select * from ' + studentinfo\n",
    "    \n",
    "    #使用pandas的read_sql函数， 可以直接将数据存放在datafrane中\n",
    "    results = pd.read_sql(sql, conn)\n",
    "    conn.close\n",
    "    return results\n",
    "    test_data = query(studentinfo) #可得到结果集\n",
    "    print(test_data.fetchone())\n",
    "    #start,end,Alarm text,source,Unnamed: 10"
   ]
  },
  {
   "cell_type": "code",
   "execution_count": 12,
   "metadata": {
    "scrolled": true
   },
   "outputs": [
    {
     "ename": "DatabaseError",
     "evalue": "DPI-1047: Cannot locate a 64-bit Oracle Client library: \"The specified module could not be found\". See https://oracle.github.io/odpi/doc/installation.html#windows for help",
     "output_type": "error",
     "traceback": [
      "\u001b[1;31m---------------------------------------------------------------------------\u001b[0m",
      "\u001b[1;31mDatabaseError\u001b[0m                             Traceback (most recent call last)",
      "\u001b[1;32m<ipython-input-12-1a823e26d7bb>\u001b[0m in \u001b[0;36m<module>\u001b[1;34m\u001b[0m\n\u001b[0;32m      1\u001b[0m \u001b[1;32mimport\u001b[0m \u001b[0mcx_Oracle\u001b[0m\u001b[1;33m\u001b[0m\u001b[1;33m\u001b[0m\u001b[0m\n\u001b[0;32m      2\u001b[0m \u001b[1;31m#连接数据库，下面括号里内容根据自己实际情况填写\u001b[0m\u001b[1;33m\u001b[0m\u001b[1;33m\u001b[0m\u001b[1;33m\u001b[0m\u001b[0m\n\u001b[1;32m----> 3\u001b[1;33m \u001b[0mconn\u001b[0m \u001b[1;33m=\u001b[0m \u001b[0mcx_Oracle\u001b[0m\u001b[1;33m.\u001b[0m\u001b[0mconnect\u001b[0m\u001b[1;33m(\u001b[0m\u001b[1;34m'sys/123456@192.168.0.167:5500/TESTORACLE'\u001b[0m\u001b[1;33m)\u001b[0m\u001b[1;33m\u001b[0m\u001b[1;33m\u001b[0m\u001b[0m\n\u001b[0m\u001b[0;32m      4\u001b[0m \u001b[1;31m# 使用cursor()方法获取操作游标\u001b[0m\u001b[1;33m\u001b[0m\u001b[1;33m\u001b[0m\u001b[1;33m\u001b[0m\u001b[0m\n\u001b[0;32m      5\u001b[0m \u001b[0mcursor\u001b[0m \u001b[1;33m=\u001b[0m \u001b[0mconn\u001b[0m\u001b[1;33m.\u001b[0m\u001b[0mcursor\u001b[0m\u001b[1;33m(\u001b[0m\u001b[1;33m)\u001b[0m\u001b[1;33m\u001b[0m\u001b[1;33m\u001b[0m\u001b[0m\n",
      "\u001b[1;31mDatabaseError\u001b[0m: DPI-1047: Cannot locate a 64-bit Oracle Client library: \"The specified module could not be found\". See https://oracle.github.io/odpi/doc/installation.html#windows for help"
     ]
    }
   ],
   "source": [
    "import cx_Oracle\n",
    "#连接数据库，下面括号里内容根据自己实际情况填写\n",
    "conn = cx_Oracle.connect('sys/123456@192.168.0.167:5500/TESTORACLE')\n",
    "# 使用cursor()方法获取操作游标\n",
    "cursor = conn.cursor()\n",
    "#使用execute方法执行SQL语句\n",
    "result=cursor.execute('Select member_id from member')\n",
    "#使用fetchone()方法获取一条数据\n",
    "#data=cursor.fetchone()\n",
    " \n",
    "#获取所有数据\n",
    "all_data=cursor.fetchall()\n",
    " \n",
    "#获取部分数据，8条\n",
    "#many_data=cursor.fetchmany(8)\n",
    " \n",
    "print(all_data)\n",
    "db.close()"
   ]
  },
  {
   "cell_type": "code",
   "execution_count": 18,
   "metadata": {},
   "outputs": [
    {
     "ename": "DatabaseError",
     "evalue": "ORA-12514: TNS: 监听程序当前无法识别连接描述符中请求的服务",
     "output_type": "error",
     "traceback": [
      "\u001b[1;31m---------------------------------------------------------------------------\u001b[0m",
      "\u001b[1;31mDatabaseError\u001b[0m                             Traceback (most recent call last)",
      "\u001b[1;32m<ipython-input-18-c0da3f2ad3bc>\u001b[0m in \u001b[0;36m<module>\u001b[1;34m\u001b[0m\n\u001b[0;32m      3\u001b[0m \u001b[1;32mimport\u001b[0m \u001b[0mcx_Oracle\u001b[0m\u001b[1;33m\u001b[0m\u001b[1;33m\u001b[0m\u001b[0m\n\u001b[0;32m      4\u001b[0m \u001b[1;33m\u001b[0m\u001b[0m\n\u001b[1;32m----> 5\u001b[1;33m \u001b[0mconn\u001b[0m \u001b[1;33m=\u001b[0m \u001b[0mcx_Oracle\u001b[0m\u001b[1;33m.\u001b[0m\u001b[0mconnect\u001b[0m\u001b[1;33m(\u001b[0m\u001b[1;34m'sys/123456@192.168.0.167/TESTORACLE'\u001b[0m\u001b[1;33m)\u001b[0m\u001b[1;33m\u001b[0m\u001b[1;33m\u001b[0m\u001b[0m\n\u001b[0m\u001b[0;32m      6\u001b[0m \u001b[0mcur\u001b[0m \u001b[1;33m=\u001b[0m \u001b[0mconn\u001b[0m\u001b[1;33m.\u001b[0m\u001b[0mcursor\u001b[0m\u001b[1;33m(\u001b[0m\u001b[1;33m)\u001b[0m\u001b[1;33m\u001b[0m\u001b[1;33m\u001b[0m\u001b[0m\n\u001b[0;32m      7\u001b[0m \u001b[0mcur\u001b[0m\u001b[1;33m.\u001b[0m\u001b[0mexecute\u001b[0m\u001b[1;33m(\u001b[0m\u001b[1;34m\"SELECT * from studentinofo\"\u001b[0m\u001b[1;33m)\u001b[0m  \u001b[1;31m# 查询数据内容\u001b[0m\u001b[1;33m\u001b[0m\u001b[1;33m\u001b[0m\u001b[0m\n",
      "\u001b[1;31mDatabaseError\u001b[0m: ORA-12514: TNS: 监听程序当前无法识别连接描述符中请求的服务"
     ]
    }
   ],
   "source": [
    "#! coding:utf-8\n",
    "  \n",
    "import cx_Oracle\n",
    " \n",
    "conn = cx_Oracle.connect('sys/123456@192.168.0.167/TESTORACLE')\n",
    "cur = conn.cursor()\n",
    "cur.execute(\"SELECT * from studentinofo\")  # 查询数据内容\n",
    "rows = cur.fetchone()  # 由于每条数据格式一样，只取一条内容格式来赋值\n",
    "while rows is not None:\n",
    "    f = open('FileTable.txt', 'a+')\n",
    "    f.write(str(rows).lstrip('(').rstrip(')').replace(', ', '\\t').replace(\"'\", \"\") + '\\n')\n",
    "    rows = cur.fetchone()\n",
    "cur.close()\n",
    "conn.close()"
   ]
  },
  {
   "cell_type": "code",
   "execution_count": null,
   "metadata": {},
   "outputs": [],
   "source": [
    "def findtime(string):\n",
    "    list_time = re.search(r\"(\\d{4}-\\d{1,2}-\\d{1,2})\",test_date)\n",
    "    return list_time\n",
    "\n",
    "def findtext(string):\n",
    "    list_text1 = re.search(++(.*?)+,)\n",
    "    list_text2 = re.search(+(.*?)\\s )\n",
    "    list_text3 = re.search('#'+(.*?)+'\":')\n",
    "    return list_text\n",
    "\n",
    "def findsource(string):\n",
    "    Area = source[0:3]\n",
    "    PLC = source[3:7]\n",
    "    SG = source[-4:-2]\n",
    "    FG = source[-2]\n",
    "    return source\n"
   ]
  },
  {
   "cell_type": "code",
   "execution_count": 31,
   "metadata": {},
   "outputs": [
    {
     "name": "stdout",
     "output_type": "stream",
     "text": [
      "2019-5-31\n"
     ]
    }
   ],
   "source": [
    "import re\n",
    "list_time = '2019-5-31  22:41:02'\n",
    "time = re.search(r\"(\\d{4}-\\d{1,2}-\\d{1,2})\",list_time,re.M)#多行，re.s匹配换行符\n",
    "print(time.group(0))"
   ]
  },
  {
   "cell_type": "code",
   "execution_count": 68,
   "metadata": {},
   "outputs": [
    {
     "name": "stdout",
     "output_type": "stream",
     "text": [
      "['ST055']\n"
     ]
    }
   ],
   "source": [
    "import re\n",
    "list_text = '++ST055+TL001 #TV001:Plausible position is missing ;'\n",
    "text = re.compile(r'.*\\++(.*?)\\+.*').findall(list_text)\n",
    "print(text)"
   ]
  },
  {
   "cell_type": "code",
   "execution_count": 78,
   "metadata": {},
   "outputs": [
    {
     "data": {
      "text/plain": [
       "'TL001'"
      ]
     },
     "execution_count": 78,
     "metadata": {},
     "output_type": "execute_result"
    }
   ],
   "source": [
    "str = '++ST055+TL001 #TV001:Plausible position is missing ;'\n",
    "str[str.rfind('+')+1:str.rfind('+')+6]"
   ]
  },
  {
   "cell_type": "code",
   "execution_count": 87,
   "metadata": {},
   "outputs": [
    {
     "data": {
      "text/plain": [
       "'MM02.1'"
      ]
     },
     "execution_count": 87,
     "metadata": {},
     "output_type": "execute_result"
    }
   ],
   "source": [
    "str = '++ST010 #\"MM02.1\":Limit position forward not reached @OP: ++ST010+TL001-MM02.1-BG1:4'\n",
    "str[str.rfind('#\"')+2:str.rfind('#')+8]"
   ]
  },
  {
   "cell_type": "code",
   "execution_count": 94,
   "metadata": {},
   "outputs": [
    {
     "data": {
      "text/plain": [
       "''"
      ]
     },
     "execution_count": 94,
     "metadata": {},
     "output_type": "execute_result"
    }
   ],
   "source": [
    "str = '++ST055+TL001 #TV001:Plausible position is missing ;'\n",
    "str[str.rfind('#')+2:str.rfind('+')+6]"
   ]
  },
  {
   "cell_type": "code",
   "execution_count": 46,
   "metadata": {},
   "outputs": [
    {
     "name": "stdout",
     "output_type": "stream",
     "text": [
      "FWR3\n"
     ]
    }
   ],
   "source": [
    "list1 = '338FWR3_.0809'\n",
    "list_1 = list1[3:7]\n",
    "print(list_1)"
   ]
  },
  {
   "cell_type": "code",
   "execution_count": null,
   "metadata": {},
   "outputs": [],
   "source": [
    "class getdata(object):\n",
    "    def \n",
    "    \n",
    "    "
   ]
  },
  {
   "cell_type": "code",
   "execution_count": 15,
   "metadata": {},
   "outputs": [],
   "source": [
    "#!/usr/bin/python\n",
    "# -*- coding: UTF-8 -*-\n",
    "\n",
    "import MySQLdb\n",
    "\n",
    "# 打开数据库连接\n",
    "db = MySQLdb.connect(\"localhost\", \"root\", \"86ww86ww\", \"my_db\", charset='utf8' )\n",
    "\n",
    "# 使用cursor()方法获取操作游标 \n",
    "cursor = db.cursor()\n",
    "\n",
    "# 如果数据表已经存在使用 execute() 方法删除表。\n",
    "cursor.execute(\"DROP TABLE IF EXISTS FIXTURE\")\n",
    "\n",
    "# 创建数据表SQL语句\n",
    "sql = \"\"\"CREATE TABLE FIXTURE (\n",
    "         START DATETIME,\n",
    "         END DATETIME,\n",
    "         ALARMTEXT CHAR,  \n",
    "         SOURCE CHAR,\n",
    "         unname10 CHAR)\"\"\"\n",
    "\n",
    "cursor.execute(sql)\n",
    "\n",
    "# 关闭数据库连接\n",
    "db.close()"
   ]
  }
 ],
 "metadata": {
  "kernelspec": {
   "display_name": "Python 3",
   "language": "python",
   "name": "python3"
  },
  "language_info": {
   "codemirror_mode": {
    "name": "ipython",
    "version": 3
   },
   "file_extension": ".py",
   "mimetype": "text/x-python",
   "name": "python",
   "nbconvert_exporter": "python",
   "pygments_lexer": "ipython3",
   "version": "3.7.3"
  }
 },
 "nbformat": 4,
 "nbformat_minor": 2
}
