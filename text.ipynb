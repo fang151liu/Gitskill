{
 "cells": [
  {
   "cell_type": "code",
   "execution_count": 6,
   "metadata": {},
   "outputs": [
    {
     "name": "stdout",
     "output_type": "stream",
     "text": [
      "Database version : 8.0.11 \n"
     ]
    }
   ],
   "source": [
    "#!/usr/bin/python\n",
    "# -*- coding: UTF-8 -*-\n",
    "\n",
    "import MySQLdb\n",
    "\n",
    "# 打开数据库连接\n",
    "db = MySQLdb.connect(\"localhost\", \"root\", \"86w86w\", \"my_db\", charset='utf8' )\n",
    "\n",
    "# 使用cursor()方法获取操作游标 \n",
    "cursor = db.cursor()\n",
    "\n",
    "# 使用execute方法执行SQL语句\n",
    "cursor.execute(\"SELECT VERSION()\")\n",
    "\n",
    "# 使用 fetchone() 方法获取一条数据\n",
    "data = cursor.fetchone()\n",
    "\n",
    "print(\"Database version : %s \" % data)\n",
    "\n",
    "# 关闭数据库连接\n",
    "db.close()"
   ]
  },
  {
   "cell_type": "code",
   "execution_count": 12,
   "metadata": {},
   "outputs": [
    {
     "ename": "ModuleNotFoundError",
     "evalue": "No module named 'cx_Oracle'",
     "output_type": "error",
     "traceback": [
      "\u001b[1;31m---------------------------------------------------------------------------\u001b[0m",
      "\u001b[1;31mModuleNotFoundError\u001b[0m                       Traceback (most recent call last)",
      "\u001b[1;32m<ipython-input-12-35d972585ddc>\u001b[0m in \u001b[0;36m<module>\u001b[1;34m()\u001b[0m\n\u001b[0;32m      1\u001b[0m \u001b[1;31m#工具库导入\u001b[0m\u001b[1;33m\u001b[0m\u001b[1;33m\u001b[0m\u001b[0m\n\u001b[0;32m      2\u001b[0m \u001b[1;32mimport\u001b[0m \u001b[0mpandas\u001b[0m \u001b[1;32mas\u001b[0m \u001b[0mpd\u001b[0m\u001b[1;33m\u001b[0m\u001b[0m\n\u001b[1;32m----> 3\u001b[1;33m \u001b[1;32mimport\u001b[0m \u001b[0mcx_Oracle\u001b[0m\u001b[1;33m\u001b[0m\u001b[0m\n\u001b[0m\u001b[0;32m      4\u001b[0m \u001b[1;31m#设置环境编码方式，可解决读取数据库乱码问题\u001b[0m\u001b[1;33m\u001b[0m\u001b[1;33m\u001b[0m\u001b[0m\n\u001b[0;32m      5\u001b[0m \u001b[1;32mimport\u001b[0m \u001b[0mos\u001b[0m\u001b[1;33m\u001b[0m\u001b[0m\n",
      "\u001b[1;31mModuleNotFoundError\u001b[0m: No module named 'cx_Oracle'"
     ]
    }
   ],
   "source": [
    "#链接，读取，查询oracle\n",
    "#工具库导入\n",
    "import pandas as pd\n",
    "import cx_Oracle \n",
    "#设置环境编码方式，可解决读取数据库乱码问题\n",
    "import os\n",
    "os.environ['NLS_LANG'] = 'SIMPLIFIED CHINESE_CHINA.UTF8'\n",
    "#实现查询并返回dataframe、\n",
    "def query(table):\n",
    "    hos = \"127.0.0.1\"#数据库ip\n",
    "    port = \"1521\"#端口\n",
    "    sid = \"test\"#数据库名称\n",
    "    dsn = cx_Oracle.makedsn(host, port, sid)\n",
    "    #scott是数据用户名，tiger是登陆密码（默认用户名和密码）\n",
    "    conn = cx_Oracle.connect(\"scott\", \"tiger\", dsn)\n",
    "    #SQL语句，可以定制，实现灵活查询\n",
    "    sql = 'select * from ' + table\n",
    "    \n",
    "    #使用pandas的read_sql函数， 可以直接将数据存放在datafrane中\n",
    "    results = pd.read_sql(sql, conn)\n",
    "    conn.close\n",
    "    return results\n",
    "test_data = query(test_table) #可得到结果集\n",
    "    #start,end,Alarm text,source,Unnamed: 10"
   ]
  },
  {
   "cell_type": "code",
   "execution_count": null,
   "metadata": {},
   "outputs": [],
   "source": [
    "def findtime(string):\n",
    "    list_time = re.search(r\"(\\d{4}-\\d{1,2}-\\d{1,2})\",test_date)\n",
    "    return list_time\n",
    "\n",
    "def findtext(string):\n",
    "    list_text1 = re.search(++(.*?)+,)\n",
    "    list_text2 = re.search(+(.*?)\\s )\n",
    "    list_text3 = re.search('#'+(.*?)+'\":')\n",
    "    \n",
    "def findsource(string):\n",
    "    Area = source[0:3]\n",
    "    PLC = source[3:7]\n",
    "    SG = source[-4:-2]\n",
    "    FG = source[-2]"
   ]
  },
  {
   "cell_type": "code",
   "execution_count": 31,
   "metadata": {},
   "outputs": [
    {
     "name": "stdout",
     "output_type": "stream",
     "text": [
      "2019-5-31\n"
     ]
    }
   ],
   "source": [
    "import re\n",
    "list_time = '2019-5-31  22:41:02'\n",
    "time = re.search(r\"(\\d{4}-\\d{1,2}-\\d{1,2})\",list_time,re.M)#多行，re.s匹配换行符\n",
    "print(time.group(0))"
   ]
  },
  {
   "cell_type": "code",
   "execution_count": 68,
   "metadata": {},
   "outputs": [
    {
     "name": "stdout",
     "output_type": "stream",
     "text": [
      "['ST055']\n"
     ]
    }
   ],
   "source": [
    "import re\n",
    "list_text = '++ST055+TL001 #TV001:Plausible position is missing ;'\n",
    "text = re.compile(r'.*\\++(.*?)\\+.*').findall(list_text)\n",
    "print(text)"
   ]
  },
  {
   "cell_type": "code",
   "execution_count": 72,
   "metadata": {},
   "outputs": [
    {
     "name": "stdout",
     "output_type": "stream",
     "text": [
      "<re.Match object; span=(0, 8), match='++ST055+'>\n"
     ]
    }
   ],
   "source": [
    "import re\n",
    "list_text = '++ST055+TL001 #TV001:Plausible position is missing ;'\n",
    "text1 = re.search(r\".*\\+(.*?){5}\",list_text)\n",
    "print(text1)"
   ]
  },
  {
   "cell_type": "code",
   "execution_count": 78,
   "metadata": {},
   "outputs": [
    {
     "data": {
      "text/plain": [
       "'TL001'"
      ]
     },
     "execution_count": 78,
     "metadata": {},
     "output_type": "execute_result"
    }
   ],
   "source": [
    "str = '++ST055+TL001 #TV001:Plausible position is missing ;'\n",
    "str[str.rfind('+')+1:str.rfind('+')+6]"
   ]
  },
  {
   "cell_type": "code",
   "execution_count": 79,
   "metadata": {},
   "outputs": [
    {
     "data": {
      "text/plain": [
       "''"
      ]
     },
     "execution_count": 79,
     "metadata": {},
     "output_type": "execute_result"
    }
   ],
   "source": [
    "str = '++ST055+TL001 #TV001:Plausible position is missing ;'\n",
    "str[str.rfind('#')+1:str.rfind('+')+6]"
   ]
  },
  {
   "cell_type": "code",
   "execution_count": 46,
   "metadata": {},
   "outputs": [
    {
     "name": "stdout",
     "output_type": "stream",
     "text": [
      "FWR3\n"
     ]
    }
   ],
   "source": [
    "list1 = '338FWR3_.0809'\n",
    "list_1 = list1[3:7]\n",
    "print(list_1)"
   ]
  },
  {
   "cell_type": "code",
   "execution_count": 15,
   "metadata": {},
   "outputs": [],
   "source": [
    "#!/usr/bin/python\n",
    "# -*- coding: UTF-8 -*-\n",
    "\n",
    "import MySQLdb\n",
    "\n",
    "# 打开数据库连接\n",
    "db = MySQLdb.connect(\"localhost\", \"root\", \"86ww86ww\", \"my_db\", charset='utf8' )\n",
    "\n",
    "# 使用cursor()方法获取操作游标 \n",
    "cursor = db.cursor()\n",
    "\n",
    "# 如果数据表已经存在使用 execute() 方法删除表。\n",
    "cursor.execute(\"DROP TABLE IF EXISTS FIXTURE\")\n",
    "\n",
    "# 创建数据表SQL语句\n",
    "sql = \"\"\"CREATE TABLE FIXTURE (\n",
    "         START DATETIME,\n",
    "         END DATETIME,\n",
    "         ALARMTEXT CHAR,  \n",
    "         SOURCE CHAR,\n",
    "         unname10 CHAR)\"\"\"\n",
    "\n",
    "cursor.execute(sql)\n",
    "\n",
    "# 关闭数据库连接\n",
    "db.close()"
   ]
  }
 ],
 "metadata": {
  "kernelspec": {
   "display_name": "Python 3",
   "language": "python",
   "name": "python3"
  },
  "language_info": {
   "codemirror_mode": {
    "name": "ipython",
    "version": 3
   },
   "file_extension": ".py",
   "mimetype": "text/x-python",
   "name": "python",
   "nbconvert_exporter": "python",
   "pygments_lexer": "ipython3",
   "version": "3.7.3"
  }
 },
 "nbformat": 4,
 "nbformat_minor": 2
}
